{
 "cells": [
  {
   "cell_type": "markdown",
   "metadata": {},
   "source": [
    "### leetcode 链表反转\n",
    "定义一个函数，输入一个链表的头节点，反转该链表并输出反转后链表的头节点。\n",
    "\n",
    " \n",
    "\n",
    "#### 示例:\n",
    "\n",
    "输入: `1->2->3->4->5->NULL`\n",
    "输出: `5->4->3->2->1->NULL`\n",
    " \n",
    "\n",
    "#### 限制：\n",
    "\n",
    "0 <= 节点个数 <= 5000"
   ]
  },
  {
   "cell_type": "code",
   "execution_count": null,
   "metadata": {
    "tags": []
   },
   "outputs": [],
   "source": [
    "%run node.py\n",
    "\n",
    "class Solution:\n",
    "    def reverseList(head: ListNode) -> ListNode:\n",
    "        last = None\n",
    "        while head:\n",
    "            head.next, last, head = last, head, head.next\n",
    "        return last\n",
    "\n",
    "print('reversed:',Solution.reverseList(list))"
   ]
  }
 ],
 "metadata": {
  "kernelspec": {
   "display_name": "Python 3.6.9 64-bit",
   "language": "python",
   "name": "python_defaultSpec_1597818368754"
  },
  "language_info": {
   "codemirror_mode": {
    "name": "ipython",
    "version": 3
   },
   "file_extension": ".py",
   "mimetype": "text/x-python",
   "name": "python",
   "nbconvert_exporter": "python",
   "pygments_lexer": "ipython3",
   "version": "3.6.9-final"
  }
 },
 "nbformat": 4,
 "nbformat_minor": 4
}
